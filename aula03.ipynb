{
  "nbformat": 4,
  "nbformat_minor": 0,
  "metadata": {
    "colab": {
      "provenance": [],
      "include_colab_link": true
    },
    "kernelspec": {
      "name": "python3",
      "display_name": "Python 3"
    },
    "language_info": {
      "name": "python"
    }
  },
  "cells": [
    {
      "cell_type": "markdown",
      "metadata": {
        "id": "view-in-github",
        "colab_type": "text"
      },
      "source": [
        "<a href=\"https://colab.research.google.com/github/sebavassou/Estatistica_Inferencial/blob/main/aula03.ipynb\" target=\"_parent\"><img src=\"https://colab.research.google.com/assets/colab-badge.svg\" alt=\"Open In Colab\"/></a>"
      ]
    },
    {
      "cell_type": "code",
      "execution_count": null,
      "metadata": {
        "id": "ilnsH6xvwsux",
        "colab": {
          "base_uri": "https://localhost:8080/"
        },
        "outputId": "fcfc8b31-cc3e-4592-9332-319b99a500ff"
      },
      "outputs": [
        {
          "output_type": "stream",
          "name": "stdout",
          "text": [
            "IC de 95%: (16.77, 20.23)\n"
          ]
        }
      ],
      "source": [
        "# slide 11\n",
        "import scipy.stats as stats\n",
        "import numpy as np\n",
        "\n",
        "# Dados do problema\n",
        "n = 25\n",
        "media_amostral = 18.5\n",
        "desvio_padrao = 4.2\n",
        "confianca = 0.95\n",
        "\n",
        "# Método 1: Usando stats.t.interval() - mais simples!\n",
        "erro_padrao = desvio_padrao / np.sqrt(n)\n",
        "ic = stats.t.interval(confidence=confianca,\n",
        "                      df=n-1,\n",
        "                      loc=media_amostral,\n",
        "                      scale=erro_padrao)\n",
        "\n",
        "print(f\"IC de 95%: ({ic[0]:.2f}, {ic[1]:.2f})\")\n",
        "# Saída: IC de 95%: (16.77, 20.23)\n",
        "\n",
        "# Método 2: Usando stats.sem() para erro padrão\n",
        "#erro_padrao = stats.sem(dados)  # se tivéssemos os dados brutos"
      ]
    },
    {
      "cell_type": "code",
      "source": [
        "#slide 17\n",
        "import numpy as np\n",
        "from scipy import stats\n",
        "\n",
        "# Dados\n",
        "tempos = [15.2, 18.5, 22.1, 16.8, 19.3,\n",
        "          21.5, 17.2, 20.8, 18.9, 16.5,\n",
        "          19.7, 23.2, 18.1, 17.9, 20.3,\n",
        "          19.5, 18.8, 21.1, 17.6, 19.2]\n",
        "\n",
        "# 1. Estatísticas descritivas\n",
        "media = np.mean(tempos)\n",
        "desvio = np.std(tempos, ddof=1)  # ddof=1 para amostra\n",
        "\n",
        "ep = desvio/np.sqrt(len(tempos))\n",
        "ep = stats.sem(tempos)\n",
        "\n",
        "# 2. IC de 95% usando stats.t.interval()\n",
        "ic = stats.t.interval(confidence=0.95,\n",
        "                      df=len(tempos)-1,\n",
        "                      loc=media,\n",
        "                      scale=stats.sem(tempos))\n",
        "\n",
        "print(f\"Média: {media:.2f} minutos\")\n",
        "print(f\"Desvio padrão: {desvio:.2f} minutos\")\n",
        "print(f\"IC de 95%: ({ic[0]:.2f}, {ic[1]:.2f})\")\n",
        "# Resultado: IC de 95%: (18.36, 20.22)\n",
        "# Interpretação: Com 95% de confiança, o tempo médio\n",
        "# de atendimento está entre 18.36 e 20.22 minutos."
      ],
      "metadata": {
        "colab": {
          "base_uri": "https://localhost:8080/"
        },
        "id": "Tvonk4mpx-vh",
        "outputId": "d228ce22-4f4e-4b96-fb7f-51e7df5c30ed"
      },
      "execution_count": null,
      "outputs": [
        {
          "output_type": "execute_result",
          "data": {
            "text/plain": [
              "np.float64(0.4487350642581175)"
            ]
          },
          "metadata": {},
          "execution_count": 39
        }
      ]
    },
    {
      "cell_type": "code",
      "source": [
        "from statsmodels.stats.proportion import proportion_confint\n",
        "from scipy import stats\n",
        "import numpy as np\n",
        "\n",
        "# Dados\n",
        "n = 200  # tamanho da amostra\n",
        "x = 156  # número de satisfeitos\n",
        "\n",
        "# 1. Proporção amostral\n",
        "p_hat = x / n\n",
        "print(f\"Proporção amostral: {p_hat:.3f}\")  # 0.780\n",
        "\n",
        "# 2. Erro padrão\n",
        "erro_padrao = np.sqrt(p_hat * (1 - p_hat) / n)\n",
        "print(f\"Erro padrão: {erro_padrao:.4f}\")  # 0.0293\n",
        "\n",
        "# 3. IC de 95% usando aproximação normal\n",
        "z_critico = stats.norm.ppf(0.975)  # 1.96 para 95%\n",
        "margem_erro = z_critico * erro_padrao\n",
        "\n",
        "ic_inferior = p_hat - margem_erro\n",
        "ic_superior = p_hat + margem_erro\n",
        "print(f\"IC de 95%: ({ic_inferior:.3f}, {ic_superior:.3f})\")\n",
        "# Interpretação: Com 95% de confiança, entre ...% e ...%\n",
        "# dos servidores estão satisfeitos com o ambiente de trabalho."
      ],
      "metadata": {
        "colab": {
          "base_uri": "https://localhost:8080/"
        },
        "id": "_lMJK0PH2iFR",
        "outputId": "b4e8f9e6-8339-4639-df04-618dce43bb37"
      },
      "execution_count": null,
      "outputs": [
        {
          "output_type": "stream",
          "name": "stdout",
          "text": [
            "Proporção amostral: 0.780\n",
            "Erro padrão: 0.0293\n",
            "IC de 95%: (0.723, 0.837)\n"
          ]
        }
      ]
    },
    {
      "cell_type": "code",
      "source": [
        "from statsmodels.stats.proportion import proportion_confint\n",
        "\n",
        "# Mesmos dados do exercício anterior\n",
        "n = 200  # tamanho da amostra\n",
        "x = 156  # número de satisfeitos\n",
        "\n",
        "# IC de 95% com apenas uma linha!\n",
        "ic = proportion_confint(x, n, alpha=0.05, method='normal')\n",
        "\n",
        "print(f\"IC de 95%: ({ic[0]:.3f}, {ic[1]:.3f})\")\n",
        "# Resultado: IC de 95%: (0.723, 0.837)\n",
        "\n",
        "# Outros métodos disponíveis:\n",
        "# method='wilson' - melhor para amostras pequenas\n",
        "# method='beta' - método exato\n",
        "# method='agresti_coull' - ajuste para amostras pequenas"
      ],
      "metadata": {
        "colab": {
          "base_uri": "https://localhost:8080/"
        },
        "id": "n2bQqhGU2qmm",
        "outputId": "255e23b7-9ca1-43df-f342-c84ca0fa78c9"
      },
      "execution_count": null,
      "outputs": [
        {
          "output_type": "stream",
          "name": "stdout",
          "text": [
            "IC de 95%: (0.723, 0.837)\n"
          ]
        }
      ]
    },
    {
      "cell_type": "code",
      "source": [
        "from scipy import stats\n",
        "import numpy as np\n",
        "\n",
        "# Dados de uma amostra\n",
        "dados = [23.5, 25.1, 24.8, 26.2, 25.5,\n",
        "         24.3, 25.8, 24.9, 25.3, 26.0]\n",
        "media = np.mean(dados)\n",
        "n = len(dados)\n",
        "\n",
        "# 1. IC com sigma conhecido (usar distribuição normal)\n",
        "sigma_conhecido = 1.0\n",
        "ic_normal = stats.norm.interval(0.95, loc=media, scale=sigma_conhecido/np.sqrt(n))\n",
        "\n",
        "# 2. IC com σ desconhecido (usar distribuição t)\n",
        "ic_t = stats.t.interval(0.95, df=n-1, loc=media, scale=stats.sem(dados, ddof=1))\n",
        "\n",
        "print(f\"Média amostral: {media:.2f}\")\n",
        "print(f\"IC (σ conhecido):   ({ic_normal[0]:.2f}, {ic_normal[1]:.2f})\")\n",
        "print(f\"IC (σ desconhecido): ({ic_t[0]:.2f}, {ic_t[1]:.2f})\")\n",
        "\n",
        "print(f\"\\nLargura IC normal: {ic_normal[1] - ic_normal[0]:.3f}\")\n",
        "print(f\"Largura IC t: {ic_t[1] - ic_t[0]:.3f}\")\n",
        "# O IC usando t é mais largo (mais conservador)"
      ],
      "metadata": {
        "id": "IzqDE0OZ2_s-",
        "outputId": "8684bd5c-230b-4174-dd5c-d9b872434b1e",
        "colab": {
          "base_uri": "https://localhost:8080/"
        }
      },
      "execution_count": null,
      "outputs": [
        {
          "output_type": "stream",
          "name": "stdout",
          "text": [
            "Média amostral: 25.14\n",
            "IC (σ conhecido):   (24.52, 25.76)\n",
            "IC (σ desconhecido): (24.55, 25.73)\n",
            "\n",
            "Largura IC normal: 1.240\n",
            "Largura IC t: 1.171\n"
          ]
        }
      ]
    }
  ]
}