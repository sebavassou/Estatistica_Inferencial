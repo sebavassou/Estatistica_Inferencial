{
  "nbformat": 4,
  "nbformat_minor": 0,
  "metadata": {
    "colab": {
      "provenance": [],
      "authorship_tag": "ABX9TyOINGGEnKVRVtzZn/PVj7zY",
      "include_colab_link": true
    },
    "kernelspec": {
      "name": "python3",
      "display_name": "Python 3"
    },
    "language_info": {
      "name": "python"
    }
  },
  "cells": [
    {
      "cell_type": "markdown",
      "metadata": {
        "id": "view-in-github",
        "colab_type": "text"
      },
      "source": [
        "<a href=\"https://colab.research.google.com/github/sebavassou/Estatistica_Inferencial/blob/main/Prova_Estatistica_Inferencial.ipynb\" target=\"_parent\"><img src=\"https://colab.research.google.com/assets/colab-badge.svg\" alt=\"Open In Colab\"/></a>"
      ]
    },
    {
      "cell_type": "markdown",
      "source": [
        "# Prova de Estatística Inferencial\n",
        "MBA CDIA\n",
        "\n",
        "Professor:\n",
        "\n",
        "Aluno: Sebastien Pierre Daniel Vassou"
      ],
      "metadata": {
        "id": "5asitxNVFvW-"
      }
    },
    {
      "cell_type": "code",
      "execution_count": null,
      "metadata": {
        "id": "c9PdncyzFeHe"
      },
      "outputs": [],
      "source": []
    },
    {
      "cell_type": "markdown",
      "source": [
        "Conforme as instruções da prova, selecionei para resolver 5 das 15 questões, sendo 3 questões práticas e 2 teóricas, e venho por meio deste caderno colab submeter as respostas abaixo à avaliação:"
      ],
      "metadata": {
        "id": "6GcXfMO1FmLV"
      }
    },
    {
      "cell_type": "markdown",
      "source": [
        "### 1. Erros Tipo I e Tipo II\n"
      ],
      "metadata": {
        "id": "KpIsHiTsFuWv"
      }
    },
    {
      "cell_type": "markdown",
      "source": [
        "No contexto do desafio proposto podemos definir as hipóteses nula (H0) e alternativa (H1) da seguinte forma:\n",
        "\n",
        "• H0 (Hipótese Nula): O tempo médio de espera para atendimento é igual a 15 minutos (ou µ = 15 minutos).\n",
        "\n",
        "• H1 (Hipótese Alternativa): O tempo médio de espera para atendimento é maior que 15 minutos (ou µ > 15 minutos).\n",
        "\n",
        "Com base nessas hipóteses, os erros Tipo I e Tipo II seriam:\n",
        "\n",
        "\n",
        "**Erro Tipo I:** Ocorre quando a hipótese nula é rejeitada, embora ela seja verdadeira. No contexto do problema, isso significa concluir que o tempo de espera é maior que 15 minutos quando, na realidade, ele não é. Um exemplo prático seria implementar mudanças no processo de atendimento (contratar mais funcionários, por exemplo) com base em sua conclusão, quando na verdade essas mudanças não eram necessárias, gerando gastos desnecessários.\n",
        "\n",
        "\n",
        "**Erro Tipo II:** Ocorre quando a hipótese nula não é rejeitada, embora ela seja falsa. Neste caso, significa concluir que o tempo de espera não é maior que 15 minutos, quando na realidade ele é. Um exemplo prático seria não realizar nenhuma intervenção para melhorar o atendimento, resultando na manutenção de um tempo de espera elevado e insatisfação dos cidadãos.\n",
        "\n",
        "\n",
        "\n"
      ],
      "metadata": {
        "id": "oOAfttMCHllF"
      }
    },
    {
      "cell_type": "code",
      "source": [],
      "metadata": {
        "id": "D4iVEfWHHeto"
      },
      "execution_count": null,
      "outputs": []
    },
    {
      "cell_type": "markdown",
      "source": [
        "## 2. Teorema Central do Limite (TCL)"
      ],
      "metadata": {
        "id": "4aXqh1l-J6c2"
      }
    },
    {
      "cell_type": "markdown",
      "source": [
        "O Teorema Central do Limite (TCL) pode ser aplicado para garantir que a média amostral tenha uma distribuição aproximadamente normal, desde que o tamanho da amostra seja grande o suficiente, geralmente considerado n\n",
        "ge30. Se a distribuição original da população já for normal, a média amostral seguirá uma distribuição normal, independentemente do tamanho da amostra. Se essas condições não forem satisfeitas (por exemplo, tamanho da amostra pequeno e distribuição da população original não normal), a média amostral não terá uma distribuição normal garantida, e testes estatísticos que dependem dessa premissa podem não ser válidos."
      ],
      "metadata": {
        "id": "tn86hdfSKJvX"
      }
    },
    {
      "cell_type": "code",
      "source": [],
      "metadata": {
        "id": "7C9TQKEpKGbT"
      },
      "execution_count": null,
      "outputs": []
    }
  ]
}