{
  "nbformat": 4,
  "nbformat_minor": 0,
  "metadata": {
    "colab": {
      "provenance": [],
      "authorship_tag": "ABX9TyMttS3LDQYC+5HENU4GMvFw",
      "include_colab_link": true
    },
    "kernelspec": {
      "name": "python3",
      "display_name": "Python 3"
    },
    "language_info": {
      "name": "python"
    }
  },
  "cells": [
    {
      "cell_type": "markdown",
      "metadata": {
        "id": "view-in-github",
        "colab_type": "text"
      },
      "source": [
        "<a href=\"https://colab.research.google.com/github/sebavassou/Estatistica_Inferencial/blob/main/Prova_Estatistica_Inferencial.ipynb\" target=\"_parent\"><img src=\"https://colab.research.google.com/assets/colab-badge.svg\" alt=\"Open In Colab\"/></a>"
      ]
    },
    {
      "cell_type": "markdown",
      "source": [
        "# Prova de Estatística Inferencial\n",
        "MBA CDIA\n",
        "\n",
        "Professor: Allan Quadros\n",
        "\n",
        "Aluno: Sebastien Pierre Daniel Vassou"
      ],
      "metadata": {
        "id": "5asitxNVFvW-"
      }
    },
    {
      "cell_type": "code",
      "execution_count": null,
      "metadata": {
        "id": "c9PdncyzFeHe"
      },
      "outputs": [],
      "source": []
    },
    {
      "cell_type": "markdown",
      "source": [
        "Conforme as instruções da prova, selecionei para resolver 5 das 15 questões, sendo 3 questões práticas e 2 teóricas, e venho por meio deste caderno colab submeter as respostas abaixo à avaliação:"
      ],
      "metadata": {
        "id": "6GcXfMO1FmLV"
      }
    },
    {
      "cell_type": "markdown",
      "source": [
        "## Questões Teóricas"
      ],
      "metadata": {
        "id": "CrirzD3PNSEr"
      }
    },
    {
      "cell_type": "markdown",
      "source": [
        "### 1. Erros Tipo I e Tipo II\n"
      ],
      "metadata": {
        "id": "KpIsHiTsFuWv"
      }
    },
    {
      "cell_type": "markdown",
      "source": [
        "No contexto do desafio proposto podemos definir as hipóteses nula (H0) e alternativa (H1) da seguinte forma:\n",
        "\n",
        "• H0 (Hipótese Nula): O tempo médio de espera para atendimento é igual a 15 minutos (ou µ = 15 minutos).\n",
        "\n",
        "• H1 (Hipótese Alternativa): O tempo médio de espera para atendimento é maior que 15 minutos (ou µ > 15 minutos).\n",
        "\n",
        "Com base nessas hipóteses, os erros Tipo I e Tipo II seriam:\n",
        "\n",
        "\n",
        "**Erro Tipo I:** Ocorre quando a hipótese nula é rejeitada, embora ela seja verdadeira. No contexto do problema, isso significa concluir que o tempo de espera é maior que 15 minutos quando, na realidade, ele não é. Um exemplo prático seria implementar mudanças no processo de atendimento (contratar mais funcionários, por exemplo) com base em sua conclusão, quando na verdade essas mudanças não eram necessárias, gerando gastos desnecessários.\n",
        "\n",
        "\n",
        "**Erro Tipo II:** Ocorre quando a hipótese nula não é rejeitada, embora ela seja falsa. Neste caso, significa concluir que o tempo de espera não é maior que 15 minutos, quando na realidade ele é. Um exemplo prático seria não realizar nenhuma intervenção para melhorar o atendimento, resultando na manutenção de um tempo de espera elevado e insatisfação dos cidadãos.\n",
        "\n",
        "\n",
        "\n"
      ],
      "metadata": {
        "id": "oOAfttMCHllF"
      }
    },
    {
      "cell_type": "code",
      "source": [],
      "metadata": {
        "id": "D4iVEfWHHeto"
      },
      "execution_count": null,
      "outputs": []
    },
    {
      "cell_type": "markdown",
      "source": [
        "## 2. Teorema Central do Limite (TCL)"
      ],
      "metadata": {
        "id": "4aXqh1l-J6c2"
      }
    },
    {
      "cell_type": "markdown",
      "source": [
        "O Teorema Central do Limite (TCL) é um conceito fundamental na Estatística Inferencial. Ele estabelece que, se X̄ for a média de uma amostra aleatória grande de qualquer população com média µ e desvio padrão σ, então a distribuição de X̄ será aproximadamente normal, com média µX̄ = µ e desvio padrão σX̄ = σ/√n\n",
        "\n",
        "**1. Se a população original for normalmente distribuída:**\n",
        "Mesmo que a amostra seja de qualquer tamanho (n), a distribuição amostral da média (X̄) já será normal. Se a população dos tempos de deslocamento diário dos cidadãos já seguir uma distribuição normal, então a média amostral também seguirá uma distribuição normal, independentemente do número de cidadãos na amostra.\n",
        "\n",
        "**2. Se a população original NÃO for normalmente distribuída, mas o tamanho da amostra (n) for grande o suficiente:**\n",
        "Esta é a condição mais comum e poderosa do TCL. Se a distribuição real dos tempos de deslocamento na população não for normal (por exemplo, pode ser assimétrica), o TCL garante que a distribuição das médias amostrais se aproximará de uma distribuição normal desde que o tamanho da amostra seja suficientemente grande.\n",
        "Geralmente, um tamanho de amostra n > 30 é considerado suficiente para a maioria das distribuições, especialmente se a distribuição original não for muito assimétrica. Quanto mais assimétrica for a população original, maior \"n\" precisará ser para que a aproximação normal seja válida.\n",
        "\n",
        "Em resumo, a média amostral terá uma distribuição aproximadamente normal se (i) a população original for normal OU (ii) o tamanho da amostra for grande (n > 30). Para a prefeitura, isso significa que, se ela coletar uma amostra grande o suficiente de tempos de deslocamento, poderá usar as propriedades da distribuição normal para fazer inferências sobre o tempo médio populacional, mesmo que a distribuição dos tempos de deslocamento na cidade não seja normal. Amostras maiores, aliás, produzem estimativas mais precisas da média populacional, pois o erro padrão da média (σX̄ = σ/√n) diminui com o aumento do tamanho da amostra.\n",
        "\n",
        "**O que acontece se essas condições não forem satisfeitas?**\n",
        "\n",
        "Se nenhuma das condições for satisfeita, ou seja:\n",
        "**Se a população original NÃO for normal, E o tamanho da amostra (n) for pequeno (tipicamente n ≤ 30):**\n",
        "Nessas circunstâncias, NÃO se pode assumir que a distribuição da média amostral seja aproximadamente normal.\n",
        "Isso implica que os métodos de inferência estatística que dependem da suposição de normalidade da distribuição amostral (como o uso de escores Z ou testes t aproximados) não seriam válidos ou confiáveis. Por exemplo, se a prefeitura coletasse dados de apenas 10 cidadãos e a distribuição real dos tempos de deslocamento na cidade fosse muito assimétrica, as conclusões baseadas na suposição de normalidade poderiam ser imprecisas ou errôneas.\n",
        "Nesses casos, seria necessário utilizar métodos estatísticos não-paramétricos (que não dependem de suposições sobre a forma da distribuição da população) ou coletar uma amostra maior para que o TCL possa ser aplicado\n"
      ],
      "metadata": {
        "id": "tn86hdfSKJvX"
      }
    },
    {
      "cell_type": "code",
      "source": [],
      "metadata": {
        "id": "7C9TQKEpKGbT"
      },
      "execution_count": null,
      "outputs": []
    },
    {
      "cell_type": "markdown",
      "source": [
        "## Questões Práticas"
      ],
      "metadata": {
        "id": "EDgCfNoJNKJF"
      }
    },
    {
      "cell_type": "markdown",
      "source": [
        "## 10. Intervalo de Confiança"
      ],
      "metadata": {
        "id": "Iio2vpxgNen7"
      }
    },
    {
      "cell_type": "markdown",
      "source": [
        "Com uma amostra de 50 cidadãos, o tempo médio de espera em uma repartição pública foi de 20 minutos, com um desvio padrão amostral de 5 minutos. Para construir um intervalo de confiança de 95% para o tempo médio populacional, utilizaremos um teste t, já que o desvio padrão da população é desconhecido."
      ],
      "metadata": {
        "id": "3I8cvHLMNm8D"
      }
    },
    {
      "cell_type": "code",
      "source": [
        "# Dados do problema\n",
        "n = 50  # Tamanho da amostra\n",
        "media_amostral = 20  # Média amostral\n",
        "desvio_padrao_amostral = 5  # Desvio padrão amostral\n",
        "confianca = 0.95  # Nível de confiança\n",
        "\n",
        "# Importando bibliotecas\n",
        "import numpy as np\n",
        "from scipy import stats\n",
        "\n",
        "# Cálculo do erro padrão da média\n",
        "erro_padrao = desvio_padrao_amostral / np.sqrt(n)\n",
        "\n",
        "# Cálculo do valor crítico t (para um IC de 95% e 49 graus de liberdade)\n",
        "graus_liberdade = n - 1\n",
        "valor_t = stats.t.ppf((1 + confianca) / 2, graus_liberdade)\n",
        "\n",
        "# Cálculo da margem de erro\n",
        "margem_de_erro = valor_t * erro_padrao\n",
        "\n",
        "# Cálculo do intervalo de confiança\n",
        "limite_inferior = media_amostral - margem_de_erro\n",
        "limite_superior = media_amostral + margem_de_erro\n",
        "\n",
        "print(f\"O intervalo de confiança de 95% para o tempo médio populacional é de [{limite_inferior:.2f}, {limite_superior:.2f}] minutos.\")"
      ],
      "metadata": {
        "colab": {
          "base_uri": "https://localhost:8080/",
          "height": 0
        },
        "id": "nRoi8bpwNPnV",
        "outputId": "a2d67133-a221-4d66-c2aa-f0c5366d89bb"
      },
      "execution_count": 2,
      "outputs": [
        {
          "output_type": "stream",
          "name": "stdout",
          "text": [
            "O intervalo de confiança de 95% para o tempo médio populacional é de [18.58, 21.42] minutos.\n"
          ]
        }
      ]
    },
    {
      "cell_type": "markdown",
      "source": [
        "## 12. Teste t Simples"
      ],
      "metadata": {
        "id": "x1M4eHetNxM7"
      }
    },
    {
      "cell_type": "markdown",
      "source": [
        "A afirmação do órgão público é que o tempo médio para resolver um processo administrativo é de 10 dias. Em uma amostra de 25 processos, a média foi de 12 dias e o desvio padrão amostral foi de 3 dias. Vamos realizar um teste t simples para verificar se há evidências para rejeitar a afirmação com um nível de significância de 5%."
      ],
      "metadata": {
        "id": "9l-Ck96KOOHF"
      }
    },
    {
      "cell_type": "code",
      "source": [
        "# Dados do problema\n",
        "media_afirmada = 10  # Média populacional afirmada\n",
        "n = 25  # Tamanho da amostra\n",
        "media_amostral = 12  # Média amostral\n",
        "desvio_padrao_amostral = 3  # Desvio padrão amostral\n",
        "significancia = 0.05\n",
        "\n",
        "# Importando bibliotecas\n",
        "from scipy import stats\n",
        "\n",
        "# Cálculo da estatística t\n",
        "estatistica_t = (media_amostral - media_afirmada) / (desvio_padrao_amostral / (n**0.5))\n",
        "\n",
        "# Cálculo do p-valor (teste bicaudal)\n",
        "p_valor = stats.t.sf(np.abs(estatistica_t), n-1) * 2\n",
        "\n",
        "print(f\"Estatística t: {estatistica_t:.2f}\")\n",
        "print(f\"p-valor: {p_valor:.4f}\")\n",
        "\n",
        "# Conclusão do teste\n",
        "if p_valor < significancia:\n",
        "    print(\"O p-valor é menor que o nível de significância (0.05). Há evidências para rejeitar a hipótese nula.\")\n",
        "else:\n",
        "    print(\"O p-valor é maior que o nível de significância (0.05). Não há evidências para rejeitar a hipótese nula.\")"
      ],
      "metadata": {
        "colab": {
          "base_uri": "https://localhost:8080/",
          "height": 0
        },
        "id": "M8qpfBFfN9j3",
        "outputId": "9dfd65e5-915c-46a7-8db4-c746125d0889"
      },
      "execution_count": 3,
      "outputs": [
        {
          "output_type": "stream",
          "name": "stdout",
          "text": [
            "Estatística t: 3.33\n",
            "p-valor: 0.0028\n",
            "O p-valor é menor que o nível de significância (0.05). Há evidências para rejeitar a hipótese nula.\n"
          ]
        }
      ]
    },
    {
      "cell_type": "markdown",
      "source": [
        "Como o p-valor é menor que 0.05, podemos rejeitar a hipótese nula. Isso significa que, com um nível de significância de 5%, há evidências suficientes para afirmar que o tempo médio para resolver um processo administrativo é diferente de 10 dias."
      ],
      "metadata": {
        "id": "jhzbKrE7OlXL"
      }
    },
    {
      "cell_type": "code",
      "source": [],
      "metadata": {
        "id": "4FHqjQS2OuHt"
      },
      "execution_count": null,
      "outputs": []
    },
    {
      "cell_type": "markdown",
      "source": [
        "## 13. Teste Qui-Quadrado para Avaliação de Política Pública\n",
        "\n"
      ],
      "metadata": {
        "id": "UFfselHrO2qr"
      }
    },
    {
      "cell_type": "markdown",
      "source": [
        "O objetivo é verificar se existe associação entre a participação em um programa de inclusão digital e a empregabilidade dos cidadãos.\n",
        "\n",
        "H0: A participação no programa de inclusão digital e a empregabilidade são independentes.\n",
        "\n",
        "H1: A participação no programa de inclusão digital e a empregabilidade não são independentes.\n",
        "\n"
      ],
      "metadata": {
        "id": "7-hyD2ANO7eK"
      }
    },
    {
      "cell_type": "code",
      "source": [
        "# Dados do problema\n",
        "empregados_participantes = 120\n",
        "desempregados_participantes = 80\n",
        "empregados_nao_participantes = 135\n",
        "desempregados_nao_participantes = 165\n",
        "\n",
        "# Importando bibliotecas\n",
        "import pandas as pd\n",
        "from scipy.stats import chi2_contingency\n",
        "\n",
        "# Criação da tabela de contingência\n",
        "tabela_de_contingencia = pd.DataFrame([\n",
        "    [empregados_participantes, desempregados_participantes],\n",
        "    [empregados_nao_participantes, desempregados_nao_participantes]\n",
        "], index=['Participantes', 'Não Participantes'], columns=['Empregados', 'Desempregados'])\n",
        "\n",
        "print(\"Tabela de contingência:\")\n",
        "print(tabela_de_contingencia)\n",
        "\n",
        "# Realização do teste qui-quadrado\n",
        "chi2, p, dof, expected = chi2_contingency(tabela_de_contingencia)\n",
        "\n",
        "print(f\"\\nEstatística Qui-Quadrado: {chi2:.2f}\")\n",
        "print(f\"p-valor: {p:.4f}\")\n",
        "\n",
        "# Interpretação do resultado\n",
        "alpha = 0.05\n",
        "if p < alpha:\n",
        "    print(\"O p-valor é menor que o nível de significância (0.05). Há evidências para rejeitar a hipótese nula.\")\n",
        "    print(\"Existe uma associação estatisticamente significativa entre a participação no programa e a situação de emprego.\")\n",
        "else:\n",
        "    print(\"O p-valor é maior que o nível de significância (0.05). Não há evidências para rejeitar a hipótese nula.\")\n",
        "    print(\"Não existe uma associação estatisticamente significativa entre a participação no programa e a situação de emprego.\")"
      ],
      "metadata": {
        "colab": {
          "base_uri": "https://localhost:8080/",
          "height": 0
        },
        "id": "7JaY3yjWO6Fa",
        "outputId": "67ee5b8c-9f9a-4e41-866f-4c34d4d37ece"
      },
      "execution_count": 4,
      "outputs": [
        {
          "output_type": "stream",
          "name": "stdout",
          "text": [
            "Tabela de contingência:\n",
            "                   Empregados  Desempregados\n",
            "Participantes             120             80\n",
            "Não Participantes         135            165\n",
            "\n",
            "Estatística Qui-Quadrado: 10.21\n",
            "p-valor: 0.0014\n",
            "O p-valor é menor que o nível de significância (0.05). Há evidências para rejeitar a hipótese nula.\n",
            "Existe uma associação estatisticamente significativa entre a participação no programa e a situação de emprego.\n"
          ]
        }
      ]
    }
  ]
}