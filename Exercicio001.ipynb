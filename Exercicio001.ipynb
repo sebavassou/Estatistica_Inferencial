{
  "nbformat": 4,
  "nbformat_minor": 0,
  "metadata": {
    "colab": {
      "provenance": [],
      "authorship_tag": "ABX9TyNxV81+x/oTwg5J7UHd0/NR",
      "include_colab_link": true
    },
    "kernelspec": {
      "name": "python3",
      "display_name": "Python 3"
    },
    "language_info": {
      "name": "python"
    }
  },
  "cells": [
    {
      "cell_type": "markdown",
      "metadata": {
        "id": "view-in-github",
        "colab_type": "text"
      },
      "source": [
        "<a href=\"https://colab.research.google.com/github/sebavassou/Estatistica_Inferencial/blob/main/Exercicio001.ipynb\" target=\"_parent\"><img src=\"https://colab.research.google.com/assets/colab-badge.svg\" alt=\"Open In Colab\"/></a>"
      ]
    },
    {
      "cell_type": "markdown",
      "source": [],
      "metadata": {
        "id": "fBneqbWm7Psv"
      }
    },
    {
      "cell_type": "code",
      "execution_count": 1,
      "metadata": {
        "colab": {
          "base_uri": "https://localhost:8080/"
        },
        "id": "geDklnMo7AsX",
        "outputId": "986d9751-2174-41f7-dac1-ff8e0c321322"
      },
      "outputs": [
        {
          "output_type": "stream",
          "name": "stdout",
          "text": [
            "       date                                 nome  matricula  \\\n",
            "0  01/01/16  ADAILTON JOSE BARROS DAMASO TENORIO       2710   \n",
            "1  01/01/16            ADEILSON ALEXANDRE FREIRE        846   \n",
            "2  01/01/16           ADEILSON FERREIRA DA SILVA       3158   \n",
            "3  01/01/16                        ADEILSON LINS       1386   \n",
            "4  01/01/16            ADEILTON APRIGIO DA SILVA        847   \n",
            "\n",
            "                           cargo                nivel valor_base proventos  \\\n",
            "0  PROCURADOR GERAL ADJUNTO CC-1         COMISSIONADO    5500,00   4500,00   \n",
            "1                 GARI 40H N-I E       GARI 40H N-I E     937,00   1320,00   \n",
            "2     VIGILANTE 40H - CONTRATADO             CONTRATO     937,00    880,00   \n",
            "3     VIGILANTE 40H - CONTRATADO             CONTRATO     937,00    880,00   \n",
            "4            VIGILANTE 40H N-I E  VIGILANTE 40H N-I E     937,00    968,00   \n",
            "\n",
            "  descontos  liquido  \n",
            "0    760,00  3740,00  \n",
            "1    154,00  1166,00  \n",
            "2     70,40   809,60  \n",
            "3     70,40   809,60  \n",
            "4    322,29   645,71  \n",
            "<class 'pandas.core.frame.DataFrame'>\n",
            "RangeIndex: 190289 entries, 0 to 190288\n",
            "Data columns (total 9 columns):\n",
            " #   Column      Non-Null Count   Dtype \n",
            "---  ------      --------------   ----- \n",
            " 0   date        190289 non-null  object\n",
            " 1   nome        190289 non-null  object\n",
            " 2   matricula   190289 non-null  int64 \n",
            " 3   cargo       190289 non-null  object\n",
            " 4   nivel       190289 non-null  object\n",
            " 5   valor_base  190289 non-null  object\n",
            " 6   proventos   190289 non-null  object\n",
            " 7   descontos   190289 non-null  object\n",
            " 8   liquido     190289 non-null  object\n",
            "dtypes: int64(1), object(8)\n",
            "memory usage: 13.1+ MB\n",
            "None\n"
          ]
        }
      ],
      "source": [
        "import pandas as pd\n",
        "\n",
        "# Load the dataset with the correct delimiter\n",
        "df_payroll = pd.read_csv('payroll_dataset.csv', delimiter=';')\n",
        "\n",
        "# Inspect the dataset\n",
        "print(df_payroll.head())\n",
        "print(df_payroll.info())"
      ]
    }
  ]
}