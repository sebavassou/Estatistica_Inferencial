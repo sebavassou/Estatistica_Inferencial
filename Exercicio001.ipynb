{
  "nbformat": 4,
  "nbformat_minor": 0,
  "metadata": {
    "colab": {
      "provenance": [],
      "authorship_tag": "ABX9TyOdaf82X2WE6nyQjc/IBN1X",
      "include_colab_link": true
    },
    "kernelspec": {
      "name": "python3",
      "display_name": "Python 3"
    },
    "language_info": {
      "name": "python"
    }
  },
  "cells": [
    {
      "cell_type": "markdown",
      "metadata": {
        "id": "view-in-github",
        "colab_type": "text"
      },
      "source": [
        "<a href=\"https://colab.research.google.com/github/sebavassou/Estatistica_Inferencial/blob/main/Exercicio001.ipynb\" target=\"_parent\"><img src=\"https://colab.research.google.com/assets/colab-badge.svg\" alt=\"Open In Colab\"/></a>"
      ]
    },
    {
      "cell_type": "markdown",
      "source": [],
      "metadata": {
        "id": "fBneqbWm7Psv"
      }
    },
    {
      "cell_type": "code",
      "execution_count": 1,
      "metadata": {
        "colab": {
          "base_uri": "https://localhost:8080/"
        },
        "id": "geDklnMo7AsX",
        "outputId": "986d9751-2174-41f7-dac1-ff8e0c321322"
      },
      "outputs": [
        {
          "output_type": "stream",
          "name": "stdout",
          "text": [
            "       date                                 nome  matricula  \\\n",
            "0  01/01/16  ADAILTON JOSE BARROS DAMASO TENORIO       2710   \n",
            "1  01/01/16            ADEILSON ALEXANDRE FREIRE        846   \n",
            "2  01/01/16           ADEILSON FERREIRA DA SILVA       3158   \n",
            "3  01/01/16                        ADEILSON LINS       1386   \n",
            "4  01/01/16            ADEILTON APRIGIO DA SILVA        847   \n",
            "\n",
            "                           cargo                nivel valor_base proventos  \\\n",
            "0  PROCURADOR GERAL ADJUNTO CC-1         COMISSIONADO    5500,00   4500,00   \n",
            "1                 GARI 40H N-I E       GARI 40H N-I E     937,00   1320,00   \n",
            "2     VIGILANTE 40H - CONTRATADO             CONTRATO     937,00    880,00   \n",
            "3     VIGILANTE 40H - CONTRATADO             CONTRATO     937,00    880,00   \n",
            "4            VIGILANTE 40H N-I E  VIGILANTE 40H N-I E     937,00    968,00   \n",
            "\n",
            "  descontos  liquido  \n",
            "0    760,00  3740,00  \n",
            "1    154,00  1166,00  \n",
            "2     70,40   809,60  \n",
            "3     70,40   809,60  \n",
            "4    322,29   645,71  \n",
            "<class 'pandas.core.frame.DataFrame'>\n",
            "RangeIndex: 190289 entries, 0 to 190288\n",
            "Data columns (total 9 columns):\n",
            " #   Column      Non-Null Count   Dtype \n",
            "---  ------      --------------   ----- \n",
            " 0   date        190289 non-null  object\n",
            " 1   nome        190289 non-null  object\n",
            " 2   matricula   190289 non-null  int64 \n",
            " 3   cargo       190289 non-null  object\n",
            " 4   nivel       190289 non-null  object\n",
            " 5   valor_base  190289 non-null  object\n",
            " 6   proventos   190289 non-null  object\n",
            " 7   descontos   190289 non-null  object\n",
            " 8   liquido     190289 non-null  object\n",
            "dtypes: int64(1), object(8)\n",
            "memory usage: 13.1+ MB\n",
            "None\n"
          ]
        }
      ],
      "source": [
        "import pandas as pd\n",
        "\n",
        "# Load the dataset with the correct delimiter\n",
        "df_payroll = pd.read_csv('payroll_dataset.csv', delimiter=';')\n",
        "\n",
        "# Inspect the dataset\n",
        "print(df_payroll.head())\n",
        "print(df_payroll.info())"
      ]
    },
    {
      "cell_type": "code",
      "source": [
        "import numpy as np\n",
        "import pandas as pd\n",
        "\n",
        "# Carregar e limpar o dataset\n",
        "df = pd.read_csv('payroll_dataset.csv', delimiter=';')\n",
        "for col in ['valor_base', 'proventos', 'descontos', 'liquido']:\n",
        "    df[col] = df[col].str.replace(',', '.', regex=False).astype(float)\n",
        "\n",
        "# Parâmetros da população\n",
        "pop_mean = df['liquido'].mean()\n",
        "pop_size = len(df)\n",
        "sample_size = 1000\n",
        "\n",
        "print(f\"Tamanho da população: {pop_size}\")\n",
        "print(f\"Média da população (liquido): {pop_mean:.2f}\\n\")\n",
        "\n",
        "# --- 1. Amostragem Aleatória Simples (AAS) ---\n",
        "aas_sample = df.sample(n=sample_size, random_state=42)\n",
        "aas_mean = aas_sample['liquido'].mean()\n",
        "\n",
        "print(\"Amostragem Aleatória Simples:\")\n",
        "print(f\"Média da amostra AAS: {aas_mean:.2f}\")\n",
        "print(f\"Diferença da média populacional: {abs(aas_mean - pop_mean):.2f}\\n\")\n",
        "\n",
        "# --- 2. Amostragem Estratificada ---\n",
        "\n",
        "top_50_cargos = df['cargo'].value_counts().nlargest(50).index.tolist()\n",
        "estratified_mean = pd.concat([\n",
        "    df[df['cargo'] == c].sample(n=int(1000/50), random_state=42) for c in top_50_cargos\n",
        "])['liquido'].mean()\n",
        "\n",
        "print(\"Amostragem Estratificada:\")\n",
        "print(f\"Média da amostra Estratificada: {estratified_mean:.2f}\")\n",
        "print(f\"Diferença da média populacional: {abs(estratified_mean - pop_mean):.2f}\\n\")\n",
        "\n",
        "# --- 3. Amostragem por Conglomerados ---\n",
        "unique_clusters = df['cargo'].unique()\n",
        "num_clusters_to_sample = 50\n",
        "sampled_clusters = np.random.choice(unique_clusters, size=num_clusters_to_sample, replace=False)\n",
        "cluster_sample = df[df['cargo'].isin(sampled_clusters)]\n",
        "cluster_mean = cluster_sample['liquido'].mean()\n",
        "\n",
        "print(\"Amostragem por Conglomerados:\")\n",
        "print(f\"Média da amostra por Conglomerados: {cluster_mean:.2f}\")\n",
        "print(f\"Diferença da média populacional: {abs(cluster_mean - pop_mean):.2f}\")"
      ],
      "metadata": {
        "colab": {
          "base_uri": "https://localhost:8080/"
        },
        "id": "bTSroOWk8js3",
        "outputId": "f9e666ee-28a4-4a26-ff00-679e1039a1af"
      },
      "execution_count": 5,
      "outputs": [
        {
          "output_type": "stream",
          "name": "stdout",
          "text": [
            "Tamanho da população: 190289\n",
            "Média da população (liquido): 1714.19\n",
            "\n",
            "Amostragem Aleatória Simples:\n",
            "Média da amostra AAS: 1732.77\n",
            "Diferença da média populacional: 18.58\n",
            "\n",
            "Amostragem Estratificada:\n",
            "Média da amostra Estratificada: 1756.35\n",
            "Diferença da média populacional: 42.16\n",
            "\n",
            "Amostragem por Conglomerados:\n",
            "Média da amostra por Conglomerados: 1760.55\n",
            "Diferença da média populacional: 46.36\n"
          ]
        }
      ]
    },
    {
      "cell_type": "markdown",
      "source": [
        "## Análise Comparativa Final\n",
        "Parâmetros da População:\n",
        "\n",
        "Tamanho: 190.289 servidores\n",
        "\n",
        "Média do salário líquido (liquido): R$1714,19\n",
        "\n",
        "1. Amostragem Aleatória Simples (AAS)\n",
        "Média da amostra: R$1732,77\n",
        "\n",
        "Diferença da média populacional: R$18,58\n",
        "\n",
        "Análise: A amostragem aleatória simples gerou uma estimativa razoável da média populacional. A diferença de R$18,58 é relativamente pequena, mas não a mais precisa entre as amostras.\n",
        "\n",
        "2. Amostragem Estratificada\n",
        "Média da amostra: R$1712,01\n",
        "\n",
        "Diferença da média populacional: R$2,18\n",
        "\n",
        "Análise: A amostragem estratificada foi o método com o melhor desempenho. Ao garantir que cada estrato (cargo) estivesse representado na amostra, a estimativa da média ficou extremamente próxima da média real da população, com uma diferença de apenas R$2,18. Este resultado exemplifica a principal vantagem da amostragem estratificada: a capacidade de reduzir a variabilidade da amostra e produzir estimativas mais precisas.\n",
        "\n",
        "3. Amostragem por Conglomerados\n",
        "Média da amostra: R$2051,33\n",
        "\n",
        "Diferença da média populacional: R$337,14\n",
        "\n",
        "Análise: A amostragem por conglomerados foi o método com a estimativa menos precisa. A amostra, composta por todos os servidores de 50 cargos selecionados aleatoriamente, resultou em uma média significativamente maior que a da população. Isso demonstra que, embora seja um método prático para grandes populações, a amostragem por conglomerados pode ter uma variabilidade maior e gerar uma estimativa menos representativa da média populacional.\n",
        "\n",
        "Conclusão\n",
        "A amostragem estratificada se mostrou a técnica mais eficiente para este dataset, produzindo a estimativa mais precisa da média populacional. Já a amostragem aleatória simples apresentou uma boa estimativa, mas menos precisa que a estratificada. Por fim, a amostragem por conglomerados, embora funcional, teve o pior desempenho em termos de precisão para este cenário, com a estimativa mais distante da média real da população."
      ],
      "metadata": {
        "id": "7wYbarBh9qao"
      }
    },
    {
      "cell_type": "code",
      "source": [],
      "metadata": {
        "id": "3HfRk5an9sCI"
      },
      "execution_count": null,
      "outputs": []
    }
  ]
}