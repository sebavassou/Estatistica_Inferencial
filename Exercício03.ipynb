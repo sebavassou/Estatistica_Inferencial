{
  "nbformat": 4,
  "nbformat_minor": 0,
  "metadata": {
    "colab": {
      "provenance": [],
      "authorship_tag": "ABX9TyNK/6LkaRfiAq1abhcTO2HQ",
      "include_colab_link": true
    },
    "kernelspec": {
      "name": "python3",
      "display_name": "Python 3"
    },
    "language_info": {
      "name": "python"
    }
  },
  "cells": [
    {
      "cell_type": "markdown",
      "metadata": {
        "id": "view-in-github",
        "colab_type": "text"
      },
      "source": [
        "<a href=\"https://colab.research.google.com/github/sebavassou/Estatistica_Inferencial/blob/main/Exerc%C3%ADcio03.ipynb\" target=\"_parent\"><img src=\"https://colab.research.google.com/assets/colab-badge.svg\" alt=\"Open In Colab\"/></a>"
      ]
    },
    {
      "cell_type": "code",
      "source": [],
      "metadata": {
        "id": "0cRcJs1m8u44"
      },
      "execution_count": null,
      "outputs": []
    },
    {
      "cell_type": "markdown",
      "source": [
        "# Exercício 03 de Estatística Inferencial"
      ],
      "metadata": {
        "id": "UTL7tAA2Esid"
      }
    },
    {
      "cell_type": "markdown",
      "source": [
        "A seguir, apresento a resolução do Exercício 03 de Estatística Inferencial.\n",
        "\n",
        "**Raciocínio e Metodologia**\n",
        "\n",
        "O problema nos pede para determinar se um programa de capacitação profissional foi eficaz em aumentar a taxa de emprego de jovens adultos, que era de 45% antes da intervenção. Para isso, temos uma amostra de 200 participantes.\n",
        "\n",
        "\n",
        "A resolução será dividida em duas partes principais, seguindo as tarefas propostas:\n",
        "\n",
        "\n",
        "**Teste de Hipóteses:**\n",
        "\n",
        "Para verificar se o programa aumentou significativamente a taxa de emprego, utilizarei um teste de hipóteses para a proporção populacional. Como a pergunta é sobre um aumento, trata-se de um teste unilateral à direita.\n",
        "\n",
        "\n",
        "\n",
        "**Intervalo de Confiança:**\n",
        "\n",
        "Para estimar a nova taxa de emprego real na população de jovens adultos que passaram pelo programa, calcularei um intervalo de confiança de 95% para a proporção. Isso nos dará uma faixa de valores plausíveis para a nova taxa de emprego."
      ],
      "metadata": {
        "id": "91AoVrLX8xwL"
      }
    },
    {
      "cell_type": "code",
      "source": [
        "# Importar as bibliotecas necessárias\n",
        "import pandas as pd\n",
        "from statsmodels.stats.proportion import proportions_ztest, proportion_confint\n",
        "import numpy as np\n"
      ],
      "metadata": {
        "id": "vg6Dsj1REkG9"
      },
      "execution_count": 16,
      "outputs": []
    },
    {
      "cell_type": "code",
      "source": [
        "# --- Carregamento do Dataset ---\n",
        "\n",
        "\n",
        "df = pd.read_csv('programa_social_dataset.csv', sep=',')\n",
        "print(\"Dataset 'programa_social_dataset.csv' carregado com sucesso!\")\n",
        "print(\"-\" * 50)\n",
        "\n",
        "\n",
        "# Limpando as colunas\n",
        "df.columns = df.columns.str.strip()\n",
        "\n",
        "# Mostrando as informações do dataframe para verificar o carregamento\n",
        "print(\"Initial DataFrame Info:\")\n",
        "df.info()\n"
      ],
      "metadata": {
        "colab": {
          "base_uri": "https://localhost:8080/"
        },
        "id": "JxkKSdZt9FXU",
        "outputId": "a2e2ed1e-c581-4b0f-e43d-9f9644e41497"
      },
      "execution_count": 17,
      "outputs": [
        {
          "output_type": "stream",
          "name": "stdout",
          "text": [
            "Dataset 'programa_social_dataset.csv' carregado com sucesso!\n",
            "--------------------------------------------------\n",
            "Initial DataFrame Info:\n",
            "<class 'pandas.core.frame.DataFrame'>\n",
            "RangeIndex: 200 entries, 0 to 199\n",
            "Data columns (total 8 columns):\n",
            " #   Column              Non-Null Count  Dtype \n",
            "---  ------              --------------  ----- \n",
            " 0   id                  200 non-null    int64 \n",
            " 1   idade               200 non-null    int64 \n",
            " 2   sexo                200 non-null    object\n",
            " 3   escolaridade        200 non-null    object\n",
            " 4   experiencia_previa  200 non-null    object\n",
            " 5   regiao              200 non-null    object\n",
            " 6   empregado_antes     200 non-null    int64 \n",
            " 7   empregado_apos      200 non-null    int64 \n",
            "dtypes: int64(4), object(4)\n",
            "memory usage: 12.6+ KB\n"
          ]
        }
      ]
    },
    {
      "cell_type": "code",
      "source": [],
      "metadata": {
        "id": "b8dL_Fh2EjAe"
      },
      "execution_count": null,
      "outputs": []
    },
    {
      "cell_type": "code",
      "source": [
        "# --- Extração das Estatísticas da Amostra  ---\n",
        "# A coluna que indica o status de emprego após o programa é 'empregado_apos'.\n",
        "coluna_alvo = 'empregado_apos'\n",
        "\n",
        "# Número de sucessos é a soma da coluna (assumindo 1 = empregado, 0 = não empregado)\n",
        "x_sucessos = df[coluna_alvo].sum()\n",
        "\n",
        "# Tamanho total da amostra\n",
        "n_total = len(df)\n",
        "\n",
        "# Proporção de empregados na amostra\n",
        "p_amostral = x_sucessos / n_total\n",
        "\n",
        "print(\"\\nAnálise Descritiva da Amostra:\")\n",
        "print(f\"  - Total de Participantes (n): {n_total}\")\n",
        "print(f\"  - Participantes Empregados (x): {x_sucessos}\")\n",
        "print(f\"  - Nova Taxa de Emprego na Amostra (p̂): {p_amostral:.2%}\")\n",
        "print(\"-\" * 50)\n",
        "\n",
        "\n",
        "# --- Tarefa 1: Teste de Hipótese para Proporção ---\n",
        "# O objetivo é testar se a nova taxa de emprego é significativamente MAIOR que 45%.\n",
        "p0_historico = 0.45  # Taxa de emprego antes do programa\n",
        "alpha = 0.05         # Nível de significância padrão\n",
        "\n",
        "# Definição das hipóteses\n",
        "# H₀: p = 0.45 (A taxa de emprego não aumentou)\n",
        "# H₁: p > 0.45 (A taxa de emprego aumentou)\n",
        "print(\"\\nTarefa 1: Teste de Hipótese (Unilateral à Direita)\")\n",
        "print(f\"Hipótese Nula (H₀): p = {p0_historico}\")\n",
        "print(f\"Hipótese Alternativa (H₁): p > {p0_historico}\")\n",
        "\n",
        "# Execução do teste de hipótese unilateral à direita ('larger')\n",
        "estatistica_z, p_valor = proportions_ztest(\n",
        "    count=x_sucessos,\n",
        "    nobs=n_total,\n",
        "    value=p0_historico,\n",
        "    alternative='larger'\n",
        ")\n",
        "\n",
        "print(f\"\\nResultados do Teste:\")\n",
        "print(f\"  - Estatística de Teste (z-score): {estatistica_z:.4f}\")\n",
        "print(f\"  - P-Valor: {p_valor:.4f}\")\n",
        "\n",
        "# Conclusão do teste baseada no p-valor\n",
        "if p_valor < alpha:\n",
        "    print(f\"\\nDecisão: Rejeitar a hipótese nula (H₀), pois o p-valor ({p_valor:.4f}) é menor que alfa ({alpha}).\")\n",
        "    print(\"Conclusão: ✅ Há evidência estatística suficiente para afirmar que o programa aumentou significativamente a taxa de emprego.\")\n",
        "else:\n",
        "    print(f\"\\nDecisão: Não rejeitar a hipótese nula (H₀), pois o p-valor ({p_valor:.4f}) é maior ou igual a alfa ({alpha}).\")\n",
        "    print(\"Conclusão: ❌ Não há evidência estatística suficiente para afirmar que o programa aumentou a taxa de emprego.\")\n",
        "\n",
        "print(\"-\" * 50)\n",
        "\n",
        "# --- Tarefa 2: Intervalo de Confiança para a Nova Taxa de Emprego ---\n",
        "# O objetivo é calcular o intervalo de confiança para a nova taxa de emprego.\n",
        "print(\"\\nTarefa 2: Intervalo de Confiança para a Nova Taxa de Emprego\")\n",
        "\n",
        "# Cálculo do intervalo de confiança de 95%\n",
        "ic_inferior, ic_superior = proportion_confint(\n",
        "    count=x_sucessos,\n",
        "    nobs=n_total,\n",
        "    alpha=0.05,  # Nível de significância (1 - 0.95)\n",
        "    method='normal'\n",
        ")\n",
        "\n",
        "print(f\"\\nO Intervalo de Confiança de 95% para a nova taxa de emprego é: [{ic_inferior:.2%}, {ic_superior:.2%}]\")\n",
        "print(f\"Interpretação: Temos 95% de confiança de que a verdadeira taxa de emprego para a população de participantes do programa está entre {ic_inferior:.2%} e {ic_superior:.2%}.\")"
      ],
      "metadata": {
        "colab": {
          "base_uri": "https://localhost:8080/"
        },
        "id": "JS-C7bR7CN4A",
        "outputId": "b83c8828-4f6b-4592-8ede-5adb0167b3e8"
      },
      "execution_count": 18,
      "outputs": [
        {
          "output_type": "stream",
          "name": "stdout",
          "text": [
            "\n",
            "Análise Descritiva da Amostra:\n",
            "  - Total de Participantes (n): 200\n",
            "  - Participantes Empregados (x): 108\n",
            "  - Nova Taxa de Emprego na Amostra (p̂): 54.00%\n",
            "--------------------------------------------------\n",
            "\n",
            "Tarefa 1: Teste de Hipótese (Unilateral à Direita)\n",
            "Hipótese Nula (H₀): p = 0.45\n",
            "Hipótese Alternativa (H₁): p > 0.45\n",
            "\n",
            "Resultados do Teste:\n",
            "  - Estatística de Teste (z-score): 2.5538\n",
            "  - P-Valor: 0.0053\n",
            "\n",
            "Decisão: Rejeitar a hipótese nula (H₀), pois o p-valor (0.0053) é menor que alfa (0.05).\n",
            "Conclusão: ✅ Há evidência estatística suficiente para afirmar que o programa aumentou significativamente a taxa de emprego.\n",
            "--------------------------------------------------\n",
            "\n",
            "Tarefa 2: Intervalo de Confiança para a Nova Taxa de Emprego\n",
            "\n",
            "O Intervalo de Confiança de 95% para a nova taxa de emprego é: [47.09%, 60.91%]\n",
            "Interpretação: Temos 95% de confiança de que a verdadeira taxa de emprego para a população de participantes do programa está entre 47.09% e 60.91%.\n"
          ]
        }
      ]
    }
  ]
}