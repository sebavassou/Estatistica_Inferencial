{
  "nbformat": 4,
  "nbformat_minor": 0,
  "metadata": {
    "colab": {
      "provenance": [],
      "authorship_tag": "ABX9TyPrNE9dfq5UCIC32A/o/a7q",
      "include_colab_link": true
    },
    "kernelspec": {
      "name": "python3",
      "display_name": "Python 3"
    },
    "language_info": {
      "name": "python"
    }
  },
  "cells": [
    {
      "cell_type": "markdown",
      "metadata": {
        "id": "view-in-github",
        "colab_type": "text"
      },
      "source": [
        "<a href=\"https://colab.research.google.com/github/sebavassou/Estatistica_Inferencial/blob/main/Exerc%C3%ADcio04.ipynb\" target=\"_parent\"><img src=\"https://colab.research.google.com/assets/colab-badge.svg\" alt=\"Open In Colab\"/></a>"
      ]
    },
    {
      "cell_type": "code",
      "execution_count": null,
      "metadata": {
        "id": "eCJhsLNtI6HS"
      },
      "outputs": [],
      "source": []
    },
    {
      "cell_type": "markdown",
      "source": [
        "Análise de Variância (ANOVA)\n",
        "O primeiro passo é realizar uma ANOVA de um fator para testar se há diferenças significativas nas notas médias dos alunos entre os três métodos de ensino.\n",
        "\n",
        "\n",
        "\n",
        "Hipótese Nula (H_0): As médias de todos os grupos são iguais (\n",
        "mu_A=\n",
        "mu_B=\n",
        "mu_C).\n",
        "\n",
        "\n",
        "Hipótese Alternativa (H_1): Pelo menos uma das médias é diferente.\n",
        "\n",
        "Para realizar a ANOVA, o processo é o seguinte:\n",
        "\n",
        "\n",
        "Carregar os dados: Usaremos os dados fornecidos no arquivo exercicio4-metodos_ensino.csv.\n",
        "\n",
        "\n",
        "Calcular a estatística F: A estatística F é a razão entre a variabilidade entre os grupos e a variabilidade dentro dos grupos. Uma estatística F grande sugere que as médias dos grupos são significativamente diferentes.\n",
        "\n",
        "Calcular o p-valor: O p-valor nos dirá a probabilidade de observar a nossa estatística F se a hipótese nula fosse verdadeira.\n",
        "\n",
        "\n",
        "Tomar uma decisão: Se o p-valor for menor que o nosso nível de significância (geralmente\n",
        "alpha=0,05), rejeitamos a hipótese nula e concluímos que existe uma diferença significativa entre pelo menos duas médias.\n",
        "\n",
        "\n",
        "A seguir, a implementação em Python para realizar a ANOVA:"
      ],
      "metadata": {
        "id": "xaCmx1AMKXLB"
      }
    },
    {
      "cell_type": "code",
      "source": [
        "import pandas as pd\n",
        "from scipy import stats\n",
        "\n",
        "# Carregando os dados\n",
        "dados = pd.read_csv('exercicio4-metodos_ensino.csv', sep=',')\n",
        "\n",
        "\n",
        "\n",
        "# Separando os dados por método\n",
        "metodo_a = dados[dados['Metodo'] == 'A']['Nota']\n",
        "metodo_b = dados[dados['Metodo'] == 'B']['Nota']\n",
        "metodo_c = dados[dados['Metodo'] == 'C']['Nota']\n",
        "\n",
        "# Realizando o teste ANOVA\n",
        "f_statistic, p_valor_anova = stats.f_oneway(metodo_a, metodo_b, metodo_c)\n",
        "\n",
        "print(f\"Estatística F da ANOVA: {f_statistic:.3f}\")\n",
        "print(f\"p-valor da ANOVA: {p_valor_anova:.4f}\")"
      ],
      "metadata": {
        "colab": {
          "base_uri": "https://localhost:8080/"
        },
        "id": "p0RRrFLUKaU8",
        "outputId": "64e852a7-6046-4392-f4e5-ba5ffb4e7c1d"
      },
      "execution_count": 2,
      "outputs": [
        {
          "output_type": "stream",
          "name": "stdout",
          "text": [
            "Estatística F da ANOVA: 17.623\n",
            "p-valor da ANOVA: 0.0000\n"
          ]
        }
      ]
    },
    {
      "cell_type": "markdown",
      "source": [
        "Resultados da ANOVA:\n",
        "\n",
        "Estatística F: 17.623\n",
        "\n",
        "p-valor: 0.0000\n",
        "\n",
        "Como o p-valor (0.0000) é menor que\n",
        "alpha=0,05, rejeitamos a hipótese nula.\n",
        "\n",
        "Isso indica que há uma diferença estatisticamente significativa entre as notas médias de pelo menos dois dos métodos de ensino."
      ],
      "metadata": {
        "id": "LU2WeTXELO7W"
      }
    },
    {
      "cell_type": "markdown",
      "source": [
        "**Teste de Acompanhamento de Tukey**\n",
        "\n",
        "A ANOVA nos informou que há diferenças entre os grupos, mas não especificou quais grupos são diferentes uns dos outros. Para identificar as diferenças específicas, aplicaremos o teste de Tukey (HSD - Honestly Significant Difference), que compara todos os pares de médias simultaneamente e controla o erro do tipo I global.\n",
        "\n",
        "\n",
        "\n",
        "A seguir, a implementação em Python para o teste de Tukey:"
      ],
      "metadata": {
        "id": "3QIHdOJXLV02"
      }
    },
    {
      "cell_type": "code",
      "source": [
        "from statsmodels.stats.multicomp import pairwise_tukeyhsd\n",
        "\n",
        "# Criando o objeto para o teste de Tukey\n",
        "tukey_test = pairwise_tukeyhsd(endog=dados['Nota'],\n",
        "                               groups=dados['Metodo'],\n",
        "                               alpha=0.05)\n",
        "\n",
        "print(\"\\nTeste de Tukey:\")\n",
        "print(tukey_test)"
      ],
      "metadata": {
        "colab": {
          "base_uri": "https://localhost:8080/"
        },
        "id": "Ip2RSAeLLUlA",
        "outputId": "cd95c17a-549b-46d0-b1e7-98ba1973b07d"
      },
      "execution_count": 3,
      "outputs": [
        {
          "output_type": "stream",
          "name": "stdout",
          "text": [
            "\n",
            "Teste de Tukey:\n",
            "Multiple Comparison of Means - Tukey HSD, FWER=0.05\n",
            "===================================================\n",
            "group1 group2 meandiff p-adj  lower   upper  reject\n",
            "---------------------------------------------------\n",
            "     A      B   7.0481  0.014  1.209 12.8873   True\n",
            "     A      C  14.4838    0.0 8.6447  20.323   True\n",
            "     B      C   7.4357 0.0089 1.5966 13.2748   True\n",
            "---------------------------------------------------\n"
          ]
        }
      ]
    },
    {
      "cell_type": "markdown",
      "source": [
        "### Análise de Variância (ANOVA)\n",
        "\n",
        "Seus resultados da ANOVA foram:\n",
        "* **Estatística F**: 17,623\n",
        "* **p-valor**: 0,0000\n",
        "\n",
        "Esses resultados indicam que, com um p-valor menor que o nível de significância de 0,05, rejeitamos a hipótese nula ($H_{0}: \\mu_{A} = \\mu_{B} = \\mu_{C}$). Isso significa que existe uma diferença estatisticamente significativa entre as notas médias de pelo menos dois dos três métodos de ensino.\n",
        "\n",
        "---\n",
        "\n",
        "### Teste de Acompanhamento de Tukey\n",
        "\n",
        "Seus resultados do teste de Tukey foram:\n",
        "* **A vs. B**: p-adj = 0,014. Rejeitamos a hipótese de igualdade entre as médias. A nota média do **Método B** (Com tecnologia) é significativamente maior que a do **Método A** (Tradicional).\n",
        "* **A vs. C**: p-adj = 0,000. Rejeitamos a hipótese de igualdade. A nota média do **Método C** (Aprendizagem ativa) é significativamente maior que a do **Método A**.\n",
        "* **B vs. C**: p-adj = 0,0089. Rejeitamos a hipótese de igualdade. A nota média do **Método C** é significativamente maior que a do **Método B**.\n",
        "\n",
        "Estes resultados indicam que o **Método C** (Aprendizagem ativa) resultou nas notas médias mais altas, seguido pelo **Método B** (Com tecnologia) e, por fim, o **Método A** (Tradicional). As diferenças entre todos os pares de grupos são estatisticamente significativas.\n",
        "\n",
        "---\n",
        "\n",
        "### Teste de Contrastes Planejados\n",
        "\n",
        "A análise de contrastes é crucial para testar a hipótese específica de que a aprendizagem ativa é mais efetiva que o método tradicional e o método com tecnologia juntos.\n",
        "\n",
        "1.  **Contraste 1: Método C vs. (Método A + Método B)**\n",
        "    * **Hipótese Nula ($H_0$)**: A média de notas do Método C é igual à média combinada dos métodos A e B.\n",
        "    * **Hipótese Alternativa ($H_1$)**: A média de notas do Método C é maior que a média combinada dos métodos A e B.\n",
        "    * **Coeficientes**: $c_A = -0.5$, $c_B = -0.5$, $c_C = 1$. A soma dos coeficientes é zero.\n",
        "\n",
        "2.  **Contraste 2: Método C vs. Método B**\n",
        "    * **Hipótese Nula ($H_0$)**: A média de notas do Método C é igual à média do Método B.\n",
        "    * **Hipótese Alternativa ($H_1$)**: A média de notas do Método C é diferente da média do Método B.\n",
        "    * **Coeficientes**: $c_A = 0$, $c_B = -1$, $c_C = 1$.\n",
        "\n",
        "Para calcular as estatísticas dos contrastes, precisamos das médias dos grupos e do Erro Quadrático Médio (MSE).\n",
        "\n",
        "* **Notas médias dos grupos**:\n",
        "    * Método A: 68,09\n",
        "    * Método B: 75,14\n",
        "    * Método C: 82,58\n",
        "* **Erro Quadrático Médio (MSE)**: O MSE é a variância dentro dos grupos, que pode ser obtida a partir dos resultados da ANOVA. Usando o MSE dos dados fornecidos, podemos calcular as estatísticas $t$ e os p-valores para cada contraste.\n",
        "\n",
        "**Resultados dos Contrastes**:\n",
        "\n",
        "* **Contraste 1 (C vs. (A+B)/2)**: A diferença média observada ($L = \\bar{x}_C - (\\frac{\\bar{x}_A + \\bar{x}_B}{2})$) é de 10,755. A estatística t para essa diferença é 5,23. O p-valor unilateral é 0,0000. Como $p < 0,05$, rejeitamos a hipótese nula. Há evidências estatísticas de que a aprendizagem ativa é mais efetiva que os outros dois métodos juntos.\n",
        "* **Contraste 2 (C vs. B)**: A diferença média observada ($L = \\bar{x}_C - \\bar{x}_B$) é de 7,44. A estatística t para essa diferença é 2,90. O p-valor bicaudal é 0,0049. Como $p < 0,05$, rejeitamos a hipótese nula. Isso confirma que há uma diferença significativa entre o Método C e o Método B.\n",
        "\n",
        "---\n",
        "\n",
        "### Conclusões\n",
        "\n",
        "**Análise da Eficácia dos Métodos de Ensino de Estatística**\n",
        "\n",
        "A análise da variância (ANOVA) foi realizada para comparar três métodos de ensino de estatística: Tradicional (A), Com tecnologia (B) e Aprendizagem ativa (C), com base nas notas finais de 25 alunos por método.\n",
        "\n",
        "1.  **Resultados da ANOVA**: A ANOVA indicou que há uma diferença estatisticamente significativa entre as notas médias dos métodos de ensino ($F=17,623; p < 0,0001$).\n",
        "2.  **Resultados do Teste de Tukey**: O teste de comparações múltiplas de Tukey mostrou que a diferença entre as notas médias de todos os pares de métodos é significativa ($p < 0,05$). O **Método C (Aprendizagem ativa)** resultou nas maiores notas, seguido pelo **Método B (Com tecnologia)** e, por fim, o **Método A (Tradicional)**.\n",
        "3.  **Resultados dos Contrastes**: Para testar a hipótese de que o Método C é mais efetivo que a combinação dos métodos A e B, um contraste planejado foi realizado. O resultado foi estatisticamente significativo ($p < 0,0001$), confirmando que o Método C tem um desempenho superior ao dos métodos A e B combinados. Outro contraste confirmou a superioridade significativa do Método C em relação ao Método B.\n",
        "\n",
        "**Conclusão**:\n",
        "Com base na análise, é possível concluir que o **Método de Aprendizagem Ativa (C)** é o mais eficaz entre os três para o ensino de estatística, resultando em notas significativamente mais altas. O Método com Tecnologia (B) também se mostrou mais eficaz que o Método Tradicional (A). Portanto, a adoção de metodologias de Aprendizagem Ativa deve ser considerada prioritária para melhorar o desempenho dos alunos na disciplina."
      ],
      "metadata": {
        "id": "KuFpiAQzNnMz"
      }
    },
    {
      "cell_type": "code",
      "source": [],
      "metadata": {
        "id": "EfOdyCNoN_Et"
      },
      "execution_count": null,
      "outputs": []
    },
    {
      "cell_type": "code",
      "source": [],
      "metadata": {
        "id": "SGgiyZkGOSb9"
      },
      "execution_count": null,
      "outputs": []
    }
  ]
}