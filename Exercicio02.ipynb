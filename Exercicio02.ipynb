{
  "nbformat": 4,
  "nbformat_minor": 0,
  "metadata": {
    "colab": {
      "provenance": [],
      "authorship_tag": "ABX9TyNJCRwEKdjLpsC2mR/fcCJ7",
      "include_colab_link": true
    },
    "kernelspec": {
      "name": "python3",
      "display_name": "Python 3"
    },
    "language_info": {
      "name": "python"
    }
  },
  "cells": [
    {
      "cell_type": "markdown",
      "metadata": {
        "id": "view-in-github",
        "colab_type": "text"
      },
      "source": [
        "<a href=\"https://colab.research.google.com/github/sebavassou/Estatistica_Inferencial/blob/main/Exercicio02.ipynb\" target=\"_parent\"><img src=\"https://colab.research.google.com/assets/colab-badge.svg\" alt=\"Open In Colab\"/></a>"
      ]
    },
    {
      "cell_type": "markdown",
      "source": [
        "### 1) Intervalo de Confiança (95%) para a média populacional do valor da renda per capita (variável \"VL_RENDA_PERCAPITA\")\n",
        "\n",
        "Para calcular o intervalo de confiança para a média populacional, a fórmula geral é:\n",
        "$IC(\\mu) = \\overline{X} \\pm Z_{\\alpha/2} \\cdot \\frac{\\sigma}{\\sqrt{n}}$ se o desvio padrão populacional $\\sigma$ for conhecido.\n",
        "$IC(\\mu) = \\overline{X} \\pm t_{\\alpha/2, n-1} \\cdot \\frac{s}{\\sqrt{n}}$ se o desvio padrão populacional $\\sigma$ for desconhecido.\n",
        "\n",
        "Como o desvio padrão populacional ($\\sigma$) não é conhecido, utilizarei a distribuição t de Student, que converge para a distribuição normal quando o tamanho da amostra (n) é grande.\n",
        "\n",
        "**Passos para o cálculo:**\n",
        "\n",
        "1.  **Obter os dados da amostra:** A variável de interesse é \"VL_RENDA_PERCAPITA\". Precisarei calcular a média amostral ($\\overline{X}$), o desvio padrão amostral ($s$) e o tamanho da amostra ($n$) a partir do arquivo `dados_exercicio_FIES.csv`.\n",
        "2.  **Definir o nível de confiança:** O problema solicita um nível de confiança de 95%.\n",
        "3.  **Encontrar o valor crítico t:** Para um IC de 95%, $\\alpha = 0.05$. O valor crítico $t_{\\alpha/2, n-1}$ será $t_{0.025, n-1}$. Com base no arquivo fornecido, há 100 observações no conjunto de dados, então $n=100$. Os graus de liberdade são $gl = n-1 = 99$.\n",
        "4.  **Calcular o erro padrão:** O erro padrão da média é $\\frac{s}{\\sqrt{n}}$.\n",
        "5.  **Calcular a margem de erro:** A margem de erro (ME) é $t_{0.025, n-1} \\cdot \\frac{s}{\\sqrt{n}}$.\n",
        "6. ]**Construir o intervalo de confiança:** O IC é calculado como $\\overline{X} \\pm ME$.\n",
        "\n",
        "**Cálculos (baseados no dataset fornecido):**\n",
        "\n",
        "* Tamanho da amostra ($n$): 100\n",
        "* Média amostral ($\\overline{X}$) da `VL_RENDA_PERCAPITA`: R$ 785.45\n",
        "* Desvio padrão amostral ($s$) da `VL_RENDA_PERCAPITA`: R$ 565.46\n",
        "* Nível de confiança: 95%, então $\\alpha = 0.05$ e $\\alpha/2 = 0.025$.\n",
        "* Graus de liberdade ($gl$): $n-1 = 100-1 = 99$.\n",
        "* Valor crítico $t_{0.025, 99}$: Consultando uma tabela t ou usando uma função estatística, o valor é aproximadamente 1.984.\n",
        "* Erro padrão: $\\frac{565.46}{\\sqrt{100}} = \\frac{565.46}{10} = 56.546$.\n",
        "* Margem de erro: $1.984 \\cdot 56.546 \\approx 112.18$.\n",
        "* Intervalo de Confiança: $785.45 \\pm 112.18 \\implies [673.27, 897.63]$.\n",
        "\n",
        "**Interpretação:**\n",
        "\n",
        "Com 95% de confiança, a verdadeira média populacional da renda per capita está entre R$ 673,27 e R$ 897,63.Isso significa que, se o processo de amostragem e cálculo do intervalo fosse repetido muitas vezes, 95% dos intervalos construídos conteriam o verdadeiro valor da média populacional.\n",
        "\n",
        "---\n",
        "\n",
        "### 2) Intervalo de Confiança (90%) para a proporção populacional de estudantes em situação de inadimplência (variável \"ST_INADIMPLENCIA\")\n",
        "\n",
        "Para calcular o intervalo de confiança para uma proporção populacional, a fórmula geral, usando a aproximação normal para n grande, é:\n",
        "$IC(p) = \\hat{p} \\pm Z_{\\alpha/2} \\cdot \\sqrt{\\frac{\\hat{p}(1-\\hat{p})}{n}}$.\n",
        "\n",
        "**Passos para o cálculo:**\n",
        "\n",
        "1.  **Obter os dados da amostra:** A variável de interesse é \"ST_INADIMPLENCIA\", que é binária (S ou N). Precisarei calcular a proporção amostral de inadimplentes ($\\hat{p}$) e o tamanho da amostra ($n$).\n",
        "2.  **Definir o nível de confiança:** O problema solicita um nível de confiança de 90%.\n",
        "3.  **Encontrar o valor crítico Z:** Para um IC de 90%, $\\alpha=0.10$. O valor crítico $Z_{\\alpha/2}$ será $Z_{0.05}$.\n",
        "4.  **Calcular o erro padrão:** O erro padrão da proporção é $\\sqrt{\\frac{\\hat{p}(1-\\hat{p})}{n}}$.\n",
        "5.  **Calcular a margem de erro:** A margem de erro (ME) é $Z_{0.05} \\cdot \\sqrt{\\frac{\\hat{p}(1-\\hat{p})}{n}}$.\n",
        "6.  [cite_start]**Construir o intervalo de confiança:** O IC é calculado como $\\hat{p} \\pm ME$.\n",
        "\n",
        "**Cálculos (baseados no dataset fornecido):**\n",
        "\n",
        "* Tamanho da amostra ($n$): 100\n",
        "* Número de inadimplentes ($X$): 54 (contagem de 'S' na coluna `ST_INADIMPLENCIA` no arquivo `dados_exercicio_FIES.csv` [cite: 500]).\n",
        "* Proporção amostral ($\\hat{p}$): $\\frac{54}{100} = 0.54$[cite: 256].\n",
        "* Nível de confiança: 90%, então $\\alpha=0.10$ e $\\alpha/2=0.05$.\n",
        "* Valor crítico $Z_{0.05}$: Consultando a tabela de valores críticos da distribuição normal, para 90% de confiança, o valor de $z_{\\alpha/2}$ é 1.645.\n",
        "* Verificação das condições de validade: $n\\hat{p} = 100 \\cdot 0.54 = 54 \\ge 10$ e $n(1-\\hat{p}) = 100 \\cdot (1-0.54) = 46 \\ge 10$. As condições são satisfeitas.\n",
        "* Erro padrão: $\\sqrt{\\frac{0.54 \\cdot (1-0.54)}{100}} = \\sqrt{\\frac{0.54 \\cdot 0.46}{100}} = \\sqrt{\\frac{0.2484}{100}} = \\sqrt{0.002484} \\approx 0.0498$.\n",
        "* Margem de erro: $1.645 \\cdot 0.0498 \\approx 0.0819$.\n",
        "* Intervalo de Confiança: $0.54 \\pm 0.0819 \\implies [0.4581, 0.6219]$.\n",
        "\n",
        "**Interpretação:**\n",
        "\n",
        "Com 90% de confiança, a proporção populacional de estudantes inadimplentes está entre 45.81% e 62.19%.\n",
        "\n",
        "---\n",
        "\n",
        "### 3) Qual deve ser o tamanho da amostra (n) para que o erro no primeiro intervalo seja de apenas R$ 50 para mais ou para menos?\n",
        "\n",
        "O problema solicita o novo tamanho da amostra ($n$) necessário para atingir uma margem de erro ($E$) de R$ 50, mantendo o nível de confiança de 95% para a média da renda per capita.\n",
        "\n",
        "A fórmula para determinar o tamanho da amostra para uma média, dado um erro e uma confiança, é:\n",
        "$n = \\left(\\frac{Z_{\\alpha/2} \\cdot \\sigma}{E}\\right)^2$.\n",
        "\n",
        "Como o desvio padrão populacional $\\sigma$ não é conhecido, usarei o desvio padrão amostral ($s$) da questão 1 como uma estimativa de $\\sigma$.\n",
        "\n",
        "**Passos para o cálculo:**\n",
        "\n",
        "**Definir a margem de erro desejada ($E$):** R$ 50\n",
        "\n",
        "**Obter o nível de confiança:** O problema se refere ao primeiro intervalo, que tem 95% de confiança.\n",
        "\n",
        "**Encontrar o valor crítico Z:** Para 95% de confiança, $\\alpha=0.05$ e o valor crítico $Z_{0.025}$ é 1.960.\n",
        "\n",
        "**Usar a estimativa para o desvio padrão populacional ($\\sigma$):** Utilizarei o desvio padrão amostral $s$ de R$ 565.46, calculado na questão 1.\n",
        "\n",
        "**Calcular o tamanho da amostra ($n$):** A fórmula é $n = \\left(\\frac{1.96 \\cdot 565.46}{50}\\right)^2$.\n",
        "\n",
        "**Cálculos:**\n",
        "\n",
        "* $Z_{0.025} = 1.96$\n",
        "* $\\sigma \\approx s = 565.46$\n",
        "* $E = 50$\n",
        "* $n = \\left(\\frac{1.96 \\cdot 565.46}{50}\\right)^2 = \\left(\\frac{1108.30}{50}\\right)^2 = (22.166)^2 \\approx 491.33$.\n",
        "\n",
        "Arredondando para o próximo número inteiro, o tamanho da amostra deve ser de **492**."
      ],
      "metadata": {
        "id": "bqyAfRlgwABk"
      }
    },
    {
      "cell_type": "code",
      "source": [],
      "metadata": {
        "id": "hJ56yvbhwb20"
      },
      "execution_count": null,
      "outputs": []
    }
  ]
}